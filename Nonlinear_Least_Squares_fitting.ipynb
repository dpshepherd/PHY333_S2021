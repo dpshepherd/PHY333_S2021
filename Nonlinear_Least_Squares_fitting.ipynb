{
  "nbformat": 4,
  "nbformat_minor": 0,
  "metadata": {
    "colab": {
      "name": "Nonlinear Least Squares fitting.ipynb",
      "provenance": [],
      "authorship_tag": "ABX9TyOhdX4Rt6Rgwmq07FllhnBg",
      "include_colab_link": true
    },
    "kernelspec": {
      "name": "python3",
      "display_name": "Python 3"
    },
    "language_info": {
      "name": "python"
    }
  },
  "cells": [
    {
      "cell_type": "markdown",
      "metadata": {
        "id": "view-in-github",
        "colab_type": "text"
      },
      "source": [
        "<a href=\"https://colab.research.google.com/github/dpshepherd/PHY333_S2021/blob/main/Nonlinear_Least_Squares_fitting.ipynb\" target=\"_parent\"><img src=\"https://colab.research.google.com/assets/colab-badge.svg\" alt=\"Open In Colab\"/></a>"
      ]
    },
    {
      "cell_type": "markdown",
      "source": [
        "# Nonlinear least squares fitting in python using lmfit\n",
        "  \n",
        "[Manual for lmfit](https://lmfit.github.io/lmfit-py/index.html)\n",
        "\n"
      ],
      "metadata": {
        "id": "Xz3UcFnXTE1N"
      }
    },
    {
      "cell_type": "markdown",
      "source": [
        "### Install [lmfit](https://lmfit.github.io/lmfit-py/) python library"
      ],
      "metadata": {
        "id": "SyZ3HDw2Tczb"
      }
    },
    {
      "cell_type": "code",
      "source": [
        "!pip install lmfit"
      ],
      "metadata": {
        "colab": {
          "base_uri": "https://localhost:8080/"
        },
        "id": "KtqMSUCeTg2q",
        "outputId": "644e7db8-f325-485a-a76e-d3767a271f43"
      },
      "execution_count": 3,
      "outputs": [
        {
          "output_type": "stream",
          "name": "stdout",
          "text": [
            "Collecting lmfit\n",
            "  Downloading lmfit-1.0.3.tar.gz (292 kB)\n",
            "\u001b[?25l\r\u001b[K     |█▏                              | 10 kB 25.7 MB/s eta 0:00:01\r\u001b[K     |██▎                             | 20 kB 12.6 MB/s eta 0:00:01\r\u001b[K     |███▍                            | 30 kB 9.9 MB/s eta 0:00:01\r\u001b[K     |████▌                           | 40 kB 8.7 MB/s eta 0:00:01\r\u001b[K     |█████▋                          | 51 kB 5.4 MB/s eta 0:00:01\r\u001b[K     |██████▊                         | 61 kB 5.6 MB/s eta 0:00:01\r\u001b[K     |███████▉                        | 71 kB 5.4 MB/s eta 0:00:01\r\u001b[K     |█████████                       | 81 kB 6.0 MB/s eta 0:00:01\r\u001b[K     |██████████                      | 92 kB 4.7 MB/s eta 0:00:01\r\u001b[K     |███████████▏                    | 102 kB 5.1 MB/s eta 0:00:01\r\u001b[K     |████████████▎                   | 112 kB 5.1 MB/s eta 0:00:01\r\u001b[K     |█████████████▍                  | 122 kB 5.1 MB/s eta 0:00:01\r\u001b[K     |██████████████▋                 | 133 kB 5.1 MB/s eta 0:00:01\r\u001b[K     |███████████████▊                | 143 kB 5.1 MB/s eta 0:00:01\r\u001b[K     |████████████████▉               | 153 kB 5.1 MB/s eta 0:00:01\r\u001b[K     |██████████████████              | 163 kB 5.1 MB/s eta 0:00:01\r\u001b[K     |███████████████████             | 174 kB 5.1 MB/s eta 0:00:01\r\u001b[K     |████████████████████▏           | 184 kB 5.1 MB/s eta 0:00:01\r\u001b[K     |█████████████████████▎          | 194 kB 5.1 MB/s eta 0:00:01\r\u001b[K     |██████████████████████▍         | 204 kB 5.1 MB/s eta 0:00:01\r\u001b[K     |███████████████████████▌        | 215 kB 5.1 MB/s eta 0:00:01\r\u001b[K     |████████████████████████▋       | 225 kB 5.1 MB/s eta 0:00:01\r\u001b[K     |█████████████████████████▊      | 235 kB 5.1 MB/s eta 0:00:01\r\u001b[K     |██████████████████████████▉     | 245 kB 5.1 MB/s eta 0:00:01\r\u001b[K     |████████████████████████████    | 256 kB 5.1 MB/s eta 0:00:01\r\u001b[K     |█████████████████████████████▏  | 266 kB 5.1 MB/s eta 0:00:01\r\u001b[K     |██████████████████████████████▎ | 276 kB 5.1 MB/s eta 0:00:01\r\u001b[K     |███████████████████████████████▍| 286 kB 5.1 MB/s eta 0:00:01\r\u001b[K     |████████████████████████████████| 292 kB 5.1 MB/s \n",
            "\u001b[?25hCollecting asteval>=0.9.22\n",
            "  Downloading asteval-0.9.25.tar.gz (39 kB)\n",
            "Requirement already satisfied: numpy>=1.18 in /usr/local/lib/python3.7/dist-packages (from lmfit) (1.19.5)\n",
            "Requirement already satisfied: scipy>=1.4 in /usr/local/lib/python3.7/dist-packages (from lmfit) (1.4.1)\n",
            "Collecting uncertainties>=3.0.1\n",
            "  Downloading uncertainties-3.1.6-py2.py3-none-any.whl (98 kB)\n",
            "\u001b[K     |████████████████████████████████| 98 kB 6.5 MB/s \n",
            "\u001b[?25hRequirement already satisfied: future in /usr/local/lib/python3.7/dist-packages (from uncertainties>=3.0.1->lmfit) (0.16.0)\n",
            "Building wheels for collected packages: lmfit, asteval\n",
            "  Building wheel for lmfit (setup.py) ... \u001b[?25l\u001b[?25hdone\n",
            "  Created wheel for lmfit: filename=lmfit-1.0.3-py3-none-any.whl size=84401 sha256=08ec3b951f8f7cd192d5ab0abe4664e5bfbcd41ca96432c3f6bce85904995c12\n",
            "  Stored in directory: /root/.cache/pip/wheels/b9/7a/d1/236aa0f8196b264fda481a112f7cfb1bfde7bfb20235f8e331\n",
            "  Building wheel for asteval (setup.py) ... \u001b[?25l\u001b[?25hdone\n",
            "  Created wheel for asteval: filename=asteval-0.9.25-py3-none-any.whl size=17301 sha256=775b727a577898a191101f46cfea61d86e6c676d0853998a1ae3b52ea30b3196\n",
            "  Stored in directory: /root/.cache/pip/wheels/4a/87/53/f1385a55b3f60eabb921c5f4fd151c00fdb016b5111b8c830f\n",
            "Successfully built lmfit asteval\n",
            "Installing collected packages: uncertainties, asteval, lmfit\n",
            "Successfully installed asteval-0.9.25 lmfit-1.0.3 uncertainties-3.1.6\n"
          ]
        }
      ]
    },
    {
      "cell_type": "markdown",
      "source": [
        "### Import relevant functions from [numpy](https://numpy.org/), [lmfit](https://lmfit.github.io/lmfit-py/), and [matplotlib](https://matplotlib.org/) python libraries\n"
      ],
      "metadata": {
        "id": "qAdwzJluTOaz"
      }
    },
    {
      "cell_type": "code",
      "source": [
        "from numpy import exp, sin, linspace, random, round\n",
        "from lmfit import minimize, Parameters\n",
        "import matplotlib as mpl\n",
        "import matplotlib.pyplot as plt"
      ],
      "metadata": {
        "id": "NKFhaEGZTE_Z"
      },
      "execution_count": 146,
      "outputs": []
    },
    {
      "cell_type": "markdown",
      "source": [
        "### Simulate decaying expontential signal"
      ],
      "metadata": {
        "id": "BfPE9gAZUPXd"
      }
    },
    {
      "cell_type": "code",
      "source": [
        "# function to generate decaying signal\n",
        "def decaying_signal(x,amplitude,frequency,phase,decay,noise=None):\n",
        "\n",
        "  # generate noisy (true) or clean (false) signal\n",
        "  if noise:\n",
        "    signal_data = amplitude * sin(x*frequency + phase) * exp(-x*x*decay) + noise\n",
        "  else:\n",
        "    signal_data = amplitude * sin(x*frequency + phase) * exp(-x*x*decay)\n",
        "\n",
        "  return signal_data\n",
        "\n",
        "# generate independent axis variable\n",
        "x = linspace(0, 100)\n",
        "\n",
        "# generate noise\n",
        "noise = random.normal(size=x.size, scale=.2)\n",
        "\n",
        "# set ground truth values\n",
        "amplitude_truth = 7.5\n",
        "frequency_truth = 0.22\n",
        "phase_truth = 2.5\n",
        "decay_truth = 0.001\n",
        "\n",
        "# create strings of parameter values for output\n",
        "amplitude_truth_string = str(round(amplitude_truth,2))\n",
        "frequency_truth_string = str(round(frequency_truth,2))\n",
        "phase_truth_string = str(round(phase_truth,2))\n",
        "decay_truth_string = str(round(decay_truth,4))\n",
        "\n",
        "# generate signal\n",
        "data = decaying_signal(x,amplitude_truth,frequency_truth,phase_truth,decay_truth)\n",
        "\n",
        "# generate experimental uncertainties\n",
        "uncertainty = abs(0.2 + random.normal(size=x.size, scale=0.05))"
      ],
      "metadata": {
        "id": "ytNTSfeUUPpR"
      },
      "execution_count": 147,
      "outputs": []
    },
    {
      "cell_type": "markdown",
      "source": [
        "### Plot simulated data"
      ],
      "metadata": {
        "id": "Qz7J4yGdUZKK"
      }
    },
    {
      "cell_type": "code",
      "source": [
        "plt.errorbar(x=x,y=data,xerr=None,yerr=uncertainty)\n",
        "plt.ylabel('Data', fontsize=18)\n",
        "plt.xlabel('Time', fontsize=18)\n",
        "plt.show()"
      ],
      "metadata": {
        "colab": {
          "base_uri": "https://localhost:8080/",
          "height": 287
        },
        "id": "Vn4oGyTKUZfa",
        "outputId": "174ddd48-2e9d-4a06-9b46-15b889ad5792"
      },
      "execution_count": 148,
      "outputs": [
        {
          "output_type": "display_data",
          "data": {
            "image/png": "[encoded data removed]",
            "text/plain": [
              "<Figure size 432x288 with 1 Axes>"
            ]
          },
          "metadata": {
            "needs_background": "light"
          }
        }
      ]
    },
    {
      "cell_type": "markdown",
      "source": [
        "### Create function to fit  data and perform NLLS parameter optimization"
      ],
      "metadata": {
        "id": "juOt2w63Tm-D"
      }
    },
    {
      "cell_type": "code",
      "source": [
        "# residual is the function that calculates the model value for the given parameters and returns the difference at each point\n",
        "def residual(params, x, data, uncertainty):\n",
        "    amp = params['amp']\n",
        "    phaseshift = params['phase']\n",
        "    freq = params['frequency']\n",
        "    decay = params['decay']\n",
        "\n",
        "    model = amp * sin(x*freq + phaseshift) * exp(-x*x*decay)\n",
        "\n",
        "    return (data-model) / uncertainty\n",
        "\n",
        "# declare the parameters and bounds for the model\n",
        "params = Parameters()\n",
        "params.add('amp', value=10)\n",
        "params.add('frequency', value=1.0, max=10)\n",
        "params.add('phase', value=0.2)\n",
        "params.add('decay', value=0.007, min=0.0)\n",
        "\n",
        "# extracted initial parameters\n",
        "amplitude_initial = params['amp'].value\n",
        "frequency_initial = params['frequency'].value\n",
        "phase_initial = params['phase'].value\n",
        "decay_initial = params['decay'].value\n",
        "\n",
        "# estimate parameter fits\n",
        "out = minimize(residual, params, args=(x, data, uncertainty))\n",
        "\n",
        "# extracted estimated parameters\n",
        "amplitude_fit = out.params['amp'].value\n",
        "frequency_fit = out.params['frequency'].value\n",
        "phase_fit = out.params['phase'].value\n",
        "decay_fit = out.params['decay'].value\n",
        "\n",
        "# create strings of fit parameters values\n",
        "amplitude_fit_string = str(round(amplitude_fit,2))\n",
        "frequency_fit_string = str(round(frequency_fit,2))\n",
        "phase_fit_string = str(round(phase_fit,2))\n",
        "decay_fit_string = str(round(decay_fit,4))"
      ],
      "metadata": {
        "id": "W1XaG8QbTwRw"
      },
      "execution_count": 149,
      "outputs": []
    },
    {
      "cell_type": "markdown",
      "source": [
        "### Print output of fitting"
      ],
      "metadata": {
        "id": "ShEUDhCeY-3i"
      }
    },
    {
      "cell_type": "code",
      "source": [
        "print('amplitude (truth):' + amplitude_truth_string +'; amplitude (fit):' + amplitude_fit_string)\n",
        "print('decay (truth):' + decay_truth_string +'; decay (fit):' + decay_fit_string)\n",
        "print('phase (truth):' + phase_truth_string +'; phase (fit):' + phase_fit_string)\n",
        "print('frequency (truth):' + frequency_truth_string +'; frequency (fit):' + frequency_fit_string)"
      ],
      "metadata": {
        "colab": {
          "base_uri": "https://localhost:8080/"
        },
        "id": "svalVAMvY_O1",
        "outputId": "39c010fb-2759-464a-a751-43c999e83b3e"
      },
      "execution_count": 150,
      "outputs": [
        {
          "output_type": "stream",
          "name": "stdout",
          "text": [
            "amplitude (truth):7.5; amplitude (fit):7.5\n",
            "decay (truth):0.001; decay (fit):0.001\n",
            "phase (truth):2.5; phase (fit):2.5\n",
            "frequency (truth):0.22; frequency (fit):0.22\n"
          ]
        }
      ]
    },
    {
      "cell_type": "markdown",
      "source": [
        "### Plot fit and ground truth"
      ],
      "metadata": {
        "id": "PNiEKI8bZyxd"
      }
    },
    {
      "cell_type": "code",
      "source": [
        "# calculate function using initial fit parameters\n",
        "initial_data = decaying_signal(x,amplitude_initial,frequency_initial,phase_initial,decay_initial)\n",
        "\n",
        "# calculate function using best fit parameters\n",
        "predicted_data = decaying_signal(x,amplitude_fit,frequency_fit,phase_fit,decay_fit)\n",
        "\n",
        "# plot ground truth (blue line), initial fit parameters (orange X), and final fit parameters (orange dots)\n",
        "plt.errorbar(x=x,y=data,xerr=None,yerr=uncertainty,label='ground truth',color='tab:blue')\n",
        "plt.plot(x, initial_data, 'x', label='initial guess',color='tab:orange')\n",
        "plt.plot(x, predicted_data, 'o', label='best fit',color='tab:orange')\n",
        "plt.ylabel('Data', fontsize=18)\n",
        "plt.xlabel('Time', fontsize=18)\n",
        "plt.legend(loc=(1.04,.5),fontsize=18)\n",
        "plt.show()"
      ],
      "metadata": {
        "colab": {
          "base_uri": "https://localhost:8080/",
          "height": 287
        },
        "id": "0r_fMtIeZzBo",
        "outputId": "3afa8a2d-34b3-4013-849e-9ad83576b12b"
      },
      "execution_count": 151,
      "outputs": [
        {
          "output_type": "display_data",
          "data": {
            "image/png": "[encoded data removed]",
            "text/plain": [
              "<Figure size 432x288 with 1 Axes>"
            ]
          },
          "metadata": {
            "needs_background": "light"
          }
        }
      ]
    }
  ]
}